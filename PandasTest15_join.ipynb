{
 "metadata": {
  "language_info": {
   "codemirror_mode": {
    "name": "ipython",
    "version": 3
   },
   "file_extension": ".py",
   "mimetype": "text/x-python",
   "name": "python",
   "nbconvert_exporter": "python",
   "pygments_lexer": "ipython3",
   "version": "3.8.8"
  },
  "orig_nbformat": 2,
  "kernelspec": {
   "name": "python388jvsc74a57bd01baa965d5efe3ac65b79dfc60c0d706280b1da80fedb7760faf2759126c4f253",
   "display_name": "Python 3.8.8 64-bit"
  },
  "metadata": {
   "interpreter": {
    "hash": "1baa965d5efe3ac65b79dfc60c0d706280b1da80fedb7760faf2759126c4f253"
   }
  }
 },
 "nbformat": 4,
 "nbformat_minor": 2,
 "cells": [
  {
   "source": [
    "https://www.analyticsvidhya.com/blog/2020/02/joins-in-pandas-master-the-different-types-of-joins-in-python/\n",
    "\n",
    "실습"
   ],
   "cell_type": "markdown",
   "metadata": {}
  },
  {
   "cell_type": "code",
   "execution_count": 8,
   "metadata": {},
   "outputs": [],
   "source": [
    "import pandas as pd"
   ]
  },
  {
   "cell_type": "code",
   "execution_count": 9,
   "metadata": {},
   "outputs": [
    {
     "output_type": "execute_result",
     "data": {
      "text/plain": [
       "   Product_ID Product_name     Category    Price Seller_City\n",
       "0         101        Watch      Fashion    299.0       Delhi\n",
       "1         102          Bag      Fashion   1350.5      Mumbai\n",
       "2         103        Shoes      Fashion   2999.0     Chennai\n",
       "3         104   Smartphone  Electronics  14999.0     Kolkata\n",
       "4         105        Books        Study    145.0       Delhi\n",
       "5         106          Oil      Grocery    110.0     Chennai\n",
       "6         107       Laptop  Electronics  79999.0   Bengalore"
      ],
      "text/html": "<div>\n<style scoped>\n    .dataframe tbody tr th:only-of-type {\n        vertical-align: middle;\n    }\n\n    .dataframe tbody tr th {\n        vertical-align: top;\n    }\n\n    .dataframe thead th {\n        text-align: right;\n    }\n</style>\n<table border=\"1\" class=\"dataframe\">\n  <thead>\n    <tr style=\"text-align: right;\">\n      <th></th>\n      <th>Product_ID</th>\n      <th>Product_name</th>\n      <th>Category</th>\n      <th>Price</th>\n      <th>Seller_City</th>\n    </tr>\n  </thead>\n  <tbody>\n    <tr>\n      <th>0</th>\n      <td>101</td>\n      <td>Watch</td>\n      <td>Fashion</td>\n      <td>299.0</td>\n      <td>Delhi</td>\n    </tr>\n    <tr>\n      <th>1</th>\n      <td>102</td>\n      <td>Bag</td>\n      <td>Fashion</td>\n      <td>1350.5</td>\n      <td>Mumbai</td>\n    </tr>\n    <tr>\n      <th>2</th>\n      <td>103</td>\n      <td>Shoes</td>\n      <td>Fashion</td>\n      <td>2999.0</td>\n      <td>Chennai</td>\n    </tr>\n    <tr>\n      <th>3</th>\n      <td>104</td>\n      <td>Smartphone</td>\n      <td>Electronics</td>\n      <td>14999.0</td>\n      <td>Kolkata</td>\n    </tr>\n    <tr>\n      <th>4</th>\n      <td>105</td>\n      <td>Books</td>\n      <td>Study</td>\n      <td>145.0</td>\n      <td>Delhi</td>\n    </tr>\n    <tr>\n      <th>5</th>\n      <td>106</td>\n      <td>Oil</td>\n      <td>Grocery</td>\n      <td>110.0</td>\n      <td>Chennai</td>\n    </tr>\n    <tr>\n      <th>6</th>\n      <td>107</td>\n      <td>Laptop</td>\n      <td>Electronics</td>\n      <td>79999.0</td>\n      <td>Bengalore</td>\n    </tr>\n  </tbody>\n</table>\n</div>"
     },
     "metadata": {},
     "execution_count": 9
    }
   ],
   "source": [
    "product=pd.DataFrame({\n",
    "    'Product_ID':[101,102,103,104,105,106,107],\n",
    "    'Product_name':['Watch','Bag','Shoes','Smartphone','Books','Oil','Laptop'],\n",
    "    'Category':['Fashion','Fashion','Fashion','Electronics','Study','Grocery','Electronics'],\n",
    "    'Price':[299.0,1350.50,2999.0,14999.0,145.0,110.0,79999.0],\n",
    "    'Seller_City':['Delhi','Mumbai','Chennai','Kolkata','Delhi','Chennai','Bengalore']\n",
    "})\n",
    "\n",
    "product"
   ]
  },
  {
   "cell_type": "code",
   "execution_count": 10,
   "metadata": {},
   "outputs": [
    {
     "output_type": "execute_result",
     "data": {
      "text/plain": [
       "   id     name  age  Product_ID Purchased_Product       City\n",
       "0   1   Olivia   20         101             Watch     Mumbai\n",
       "1   2   Aditya   25           0                NA      Delhi\n",
       "2   3     Cory   15         106               Oil  Bangalore\n",
       "3   4  Isabell   10           0                NA    Chennai\n",
       "4   5  Dominic   30         103             Shoes    Chennai\n",
       "5   6    Tyler   65         104        Smartphone      Delhi\n",
       "6   7   Samuel   35           0                NA    Kolkata\n",
       "7   8   Daniel   18           0                NA      Delhi\n",
       "8   9   Jeremy   23         107            Laptop     Mumbai"
      ],
      "text/html": "<div>\n<style scoped>\n    .dataframe tbody tr th:only-of-type {\n        vertical-align: middle;\n    }\n\n    .dataframe tbody tr th {\n        vertical-align: top;\n    }\n\n    .dataframe thead th {\n        text-align: right;\n    }\n</style>\n<table border=\"1\" class=\"dataframe\">\n  <thead>\n    <tr style=\"text-align: right;\">\n      <th></th>\n      <th>id</th>\n      <th>name</th>\n      <th>age</th>\n      <th>Product_ID</th>\n      <th>Purchased_Product</th>\n      <th>City</th>\n    </tr>\n  </thead>\n  <tbody>\n    <tr>\n      <th>0</th>\n      <td>1</td>\n      <td>Olivia</td>\n      <td>20</td>\n      <td>101</td>\n      <td>Watch</td>\n      <td>Mumbai</td>\n    </tr>\n    <tr>\n      <th>1</th>\n      <td>2</td>\n      <td>Aditya</td>\n      <td>25</td>\n      <td>0</td>\n      <td>NA</td>\n      <td>Delhi</td>\n    </tr>\n    <tr>\n      <th>2</th>\n      <td>3</td>\n      <td>Cory</td>\n      <td>15</td>\n      <td>106</td>\n      <td>Oil</td>\n      <td>Bangalore</td>\n    </tr>\n    <tr>\n      <th>3</th>\n      <td>4</td>\n      <td>Isabell</td>\n      <td>10</td>\n      <td>0</td>\n      <td>NA</td>\n      <td>Chennai</td>\n    </tr>\n    <tr>\n      <th>4</th>\n      <td>5</td>\n      <td>Dominic</td>\n      <td>30</td>\n      <td>103</td>\n      <td>Shoes</td>\n      <td>Chennai</td>\n    </tr>\n    <tr>\n      <th>5</th>\n      <td>6</td>\n      <td>Tyler</td>\n      <td>65</td>\n      <td>104</td>\n      <td>Smartphone</td>\n      <td>Delhi</td>\n    </tr>\n    <tr>\n      <th>6</th>\n      <td>7</td>\n      <td>Samuel</td>\n      <td>35</td>\n      <td>0</td>\n      <td>NA</td>\n      <td>Kolkata</td>\n    </tr>\n    <tr>\n      <th>7</th>\n      <td>8</td>\n      <td>Daniel</td>\n      <td>18</td>\n      <td>0</td>\n      <td>NA</td>\n      <td>Delhi</td>\n    </tr>\n    <tr>\n      <th>8</th>\n      <td>9</td>\n      <td>Jeremy</td>\n      <td>23</td>\n      <td>107</td>\n      <td>Laptop</td>\n      <td>Mumbai</td>\n    </tr>\n  </tbody>\n</table>\n</div>"
     },
     "metadata": {},
     "execution_count": 10
    }
   ],
   "source": [
    "customer=pd.DataFrame({\n",
    "    'id':[1,2,3,4,5,6,7,8,9],\n",
    "    'name':['Olivia','Aditya','Cory','Isabell','Dominic','Tyler','Samuel','Daniel','Jeremy'],\n",
    "    'age':[20,25,15,10,30,65,35,18,23],\n",
    "    'Product_ID':[101,0,106,0,103,104,0,0,107],\n",
    "    'Purchased_Product':['Watch','NA','Oil','NA','Shoes','Smartphone','NA','NA','Laptop'],\n",
    "    'City':['Mumbai','Delhi','Bangalore','Chennai','Chennai','Delhi','Kolkata','Delhi','Mumbai']\n",
    "})\n",
    "\n",
    "customer\n"
   ]
  },
  {
   "source": [
    "## default: inner join"
   ],
   "cell_type": "markdown",
   "metadata": {}
  },
  {
   "cell_type": "code",
   "execution_count": 11,
   "metadata": {},
   "outputs": [
    {
     "output_type": "execute_result",
     "data": {
      "text/plain": [
       "   Product_ID Product_name     Category    Price Seller_City  id     name  \\\n",
       "0         101        Watch      Fashion    299.0       Delhi   1   Olivia   \n",
       "1         103        Shoes      Fashion   2999.0     Chennai   5  Dominic   \n",
       "2         104   Smartphone  Electronics  14999.0     Kolkata   6    Tyler   \n",
       "3         106          Oil      Grocery    110.0     Chennai   3     Cory   \n",
       "4         107       Laptop  Electronics  79999.0   Bengalore   9   Jeremy   \n",
       "\n",
       "   age Purchased_Product       City  \n",
       "0   20             Watch     Mumbai  \n",
       "1   30             Shoes    Chennai  \n",
       "2   65        Smartphone      Delhi  \n",
       "3   15               Oil  Bangalore  \n",
       "4   23            Laptop     Mumbai  "
      ],
      "text/html": "<div>\n<style scoped>\n    .dataframe tbody tr th:only-of-type {\n        vertical-align: middle;\n    }\n\n    .dataframe tbody tr th {\n        vertical-align: top;\n    }\n\n    .dataframe thead th {\n        text-align: right;\n    }\n</style>\n<table border=\"1\" class=\"dataframe\">\n  <thead>\n    <tr style=\"text-align: right;\">\n      <th></th>\n      <th>Product_ID</th>\n      <th>Product_name</th>\n      <th>Category</th>\n      <th>Price</th>\n      <th>Seller_City</th>\n      <th>id</th>\n      <th>name</th>\n      <th>age</th>\n      <th>Purchased_Product</th>\n      <th>City</th>\n    </tr>\n  </thead>\n  <tbody>\n    <tr>\n      <th>0</th>\n      <td>101</td>\n      <td>Watch</td>\n      <td>Fashion</td>\n      <td>299.0</td>\n      <td>Delhi</td>\n      <td>1</td>\n      <td>Olivia</td>\n      <td>20</td>\n      <td>Watch</td>\n      <td>Mumbai</td>\n    </tr>\n    <tr>\n      <th>1</th>\n      <td>103</td>\n      <td>Shoes</td>\n      <td>Fashion</td>\n      <td>2999.0</td>\n      <td>Chennai</td>\n      <td>5</td>\n      <td>Dominic</td>\n      <td>30</td>\n      <td>Shoes</td>\n      <td>Chennai</td>\n    </tr>\n    <tr>\n      <th>2</th>\n      <td>104</td>\n      <td>Smartphone</td>\n      <td>Electronics</td>\n      <td>14999.0</td>\n      <td>Kolkata</td>\n      <td>6</td>\n      <td>Tyler</td>\n      <td>65</td>\n      <td>Smartphone</td>\n      <td>Delhi</td>\n    </tr>\n    <tr>\n      <th>3</th>\n      <td>106</td>\n      <td>Oil</td>\n      <td>Grocery</td>\n      <td>110.0</td>\n      <td>Chennai</td>\n      <td>3</td>\n      <td>Cory</td>\n      <td>15</td>\n      <td>Oil</td>\n      <td>Bangalore</td>\n    </tr>\n    <tr>\n      <th>4</th>\n      <td>107</td>\n      <td>Laptop</td>\n      <td>Electronics</td>\n      <td>79999.0</td>\n      <td>Bengalore</td>\n      <td>9</td>\n      <td>Jeremy</td>\n      <td>23</td>\n      <td>Laptop</td>\n      <td>Mumbai</td>\n    </tr>\n  </tbody>\n</table>\n</div>"
     },
     "metadata": {},
     "execution_count": 11
    }
   ],
   "source": [
    "pd.merge(product,customer,on='Product_ID')"
   ]
  },
  {
   "source": [
    "## left_on과 right_on에 들어가는 컬럼의 컬럼명은 다르지만, 구성요소는 동일한 성질"
   ],
   "cell_type": "markdown",
   "metadata": {}
  },
  {
   "cell_type": "code",
   "execution_count": 12,
   "metadata": {},
   "outputs": [
    {
     "output_type": "execute_result",
     "data": {
      "text/plain": [
       "   Product_ID_x Product_name     Category    Price Seller_City  id     name  \\\n",
       "0           101        Watch      Fashion    299.0       Delhi   1   Olivia   \n",
       "1           103        Shoes      Fashion   2999.0     Chennai   5  Dominic   \n",
       "2           104   Smartphone  Electronics  14999.0     Kolkata   6    Tyler   \n",
       "3           106          Oil      Grocery    110.0     Chennai   3     Cory   \n",
       "4           107       Laptop  Electronics  79999.0   Bengalore   9   Jeremy   \n",
       "\n",
       "   age  Product_ID_y Purchased_Product       City  \n",
       "0   20           101             Watch     Mumbai  \n",
       "1   30           103             Shoes    Chennai  \n",
       "2   65           104        Smartphone      Delhi  \n",
       "3   15           106               Oil  Bangalore  \n",
       "4   23           107            Laptop     Mumbai  "
      ],
      "text/html": "<div>\n<style scoped>\n    .dataframe tbody tr th:only-of-type {\n        vertical-align: middle;\n    }\n\n    .dataframe tbody tr th {\n        vertical-align: top;\n    }\n\n    .dataframe thead th {\n        text-align: right;\n    }\n</style>\n<table border=\"1\" class=\"dataframe\">\n  <thead>\n    <tr style=\"text-align: right;\">\n      <th></th>\n      <th>Product_ID_x</th>\n      <th>Product_name</th>\n      <th>Category</th>\n      <th>Price</th>\n      <th>Seller_City</th>\n      <th>id</th>\n      <th>name</th>\n      <th>age</th>\n      <th>Product_ID_y</th>\n      <th>Purchased_Product</th>\n      <th>City</th>\n    </tr>\n  </thead>\n  <tbody>\n    <tr>\n      <th>0</th>\n      <td>101</td>\n      <td>Watch</td>\n      <td>Fashion</td>\n      <td>299.0</td>\n      <td>Delhi</td>\n      <td>1</td>\n      <td>Olivia</td>\n      <td>20</td>\n      <td>101</td>\n      <td>Watch</td>\n      <td>Mumbai</td>\n    </tr>\n    <tr>\n      <th>1</th>\n      <td>103</td>\n      <td>Shoes</td>\n      <td>Fashion</td>\n      <td>2999.0</td>\n      <td>Chennai</td>\n      <td>5</td>\n      <td>Dominic</td>\n      <td>30</td>\n      <td>103</td>\n      <td>Shoes</td>\n      <td>Chennai</td>\n    </tr>\n    <tr>\n      <th>2</th>\n      <td>104</td>\n      <td>Smartphone</td>\n      <td>Electronics</td>\n      <td>14999.0</td>\n      <td>Kolkata</td>\n      <td>6</td>\n      <td>Tyler</td>\n      <td>65</td>\n      <td>104</td>\n      <td>Smartphone</td>\n      <td>Delhi</td>\n    </tr>\n    <tr>\n      <th>3</th>\n      <td>106</td>\n      <td>Oil</td>\n      <td>Grocery</td>\n      <td>110.0</td>\n      <td>Chennai</td>\n      <td>3</td>\n      <td>Cory</td>\n      <td>15</td>\n      <td>106</td>\n      <td>Oil</td>\n      <td>Bangalore</td>\n    </tr>\n    <tr>\n      <th>4</th>\n      <td>107</td>\n      <td>Laptop</td>\n      <td>Electronics</td>\n      <td>79999.0</td>\n      <td>Bengalore</td>\n      <td>9</td>\n      <td>Jeremy</td>\n      <td>23</td>\n      <td>107</td>\n      <td>Laptop</td>\n      <td>Mumbai</td>\n    </tr>\n  </tbody>\n</table>\n</div>"
     },
     "metadata": {},
     "execution_count": 12
    }
   ],
   "source": [
    "pd.merge(product,customer,left_on='Product_name',right_on='Purchased_Product')"
   ]
  },
  {
   "source": [
    "## 특정 두 컬럼의 정보가 동일한 사실들에 대해 inner join"
   ],
   "cell_type": "markdown",
   "metadata": {}
  },
  {
   "cell_type": "code",
   "execution_count": 13,
   "metadata": {},
   "outputs": [
    {
     "output_type": "execute_result",
     "data": {
      "text/plain": [
       "   Product_ID Product_name Category   Price Seller_City  id     name  age  \\\n",
       "0         103        Shoes  Fashion  2999.0     Chennai   5  Dominic   30   \n",
       "\n",
       "  Purchased_Product     City  \n",
       "0             Shoes  Chennai  "
      ],
      "text/html": "<div>\n<style scoped>\n    .dataframe tbody tr th:only-of-type {\n        vertical-align: middle;\n    }\n\n    .dataframe tbody tr th {\n        vertical-align: top;\n    }\n\n    .dataframe thead th {\n        text-align: right;\n    }\n</style>\n<table border=\"1\" class=\"dataframe\">\n  <thead>\n    <tr style=\"text-align: right;\">\n      <th></th>\n      <th>Product_ID</th>\n      <th>Product_name</th>\n      <th>Category</th>\n      <th>Price</th>\n      <th>Seller_City</th>\n      <th>id</th>\n      <th>name</th>\n      <th>age</th>\n      <th>Purchased_Product</th>\n      <th>City</th>\n    </tr>\n  </thead>\n  <tbody>\n    <tr>\n      <th>0</th>\n      <td>103</td>\n      <td>Shoes</td>\n      <td>Fashion</td>\n      <td>2999.0</td>\n      <td>Chennai</td>\n      <td>5</td>\n      <td>Dominic</td>\n      <td>30</td>\n      <td>Shoes</td>\n      <td>Chennai</td>\n    </tr>\n  </tbody>\n</table>\n</div>"
     },
     "metadata": {},
     "execution_count": 13
    }
   ],
   "source": [
    "pd.merge(product,customer,how='inner',left_on=['Product_ID','Seller_City'],right_on=['Product_ID','City'])"
   ]
  },
  {
   "source": [],
   "cell_type": "markdown",
   "metadata": {}
  },
  {
   "source": [
    "## Full outer join(합집합)"
   ],
   "cell_type": "markdown",
   "metadata": {}
  },
  {
   "cell_type": "code",
   "execution_count": 14,
   "metadata": {},
   "outputs": [
    {
     "output_type": "execute_result",
     "data": {
      "text/plain": [
       "    Product_ID Product_name     Category    Price Seller_City   id     name  \\\n",
       "0          101        Watch      Fashion    299.0       Delhi  1.0   Olivia   \n",
       "1          102          Bag      Fashion   1350.5      Mumbai  NaN      NaN   \n",
       "2          103        Shoes      Fashion   2999.0     Chennai  5.0  Dominic   \n",
       "3          104   Smartphone  Electronics  14999.0     Kolkata  6.0    Tyler   \n",
       "4          105        Books        Study    145.0       Delhi  NaN      NaN   \n",
       "5          106          Oil      Grocery    110.0     Chennai  3.0     Cory   \n",
       "6          107       Laptop  Electronics  79999.0   Bengalore  9.0   Jeremy   \n",
       "7            0          NaN          NaN      NaN         NaN  2.0   Aditya   \n",
       "8            0          NaN          NaN      NaN         NaN  4.0  Isabell   \n",
       "9            0          NaN          NaN      NaN         NaN  7.0   Samuel   \n",
       "10           0          NaN          NaN      NaN         NaN  8.0   Daniel   \n",
       "\n",
       "     age Purchased_Product       City  \n",
       "0   20.0             Watch     Mumbai  \n",
       "1    NaN               NaN        NaN  \n",
       "2   30.0             Shoes    Chennai  \n",
       "3   65.0        Smartphone      Delhi  \n",
       "4    NaN               NaN        NaN  \n",
       "5   15.0               Oil  Bangalore  \n",
       "6   23.0            Laptop     Mumbai  \n",
       "7   25.0                NA      Delhi  \n",
       "8   10.0                NA    Chennai  \n",
       "9   35.0                NA    Kolkata  \n",
       "10  18.0                NA      Delhi  "
      ],
      "text/html": "<div>\n<style scoped>\n    .dataframe tbody tr th:only-of-type {\n        vertical-align: middle;\n    }\n\n    .dataframe tbody tr th {\n        vertical-align: top;\n    }\n\n    .dataframe thead th {\n        text-align: right;\n    }\n</style>\n<table border=\"1\" class=\"dataframe\">\n  <thead>\n    <tr style=\"text-align: right;\">\n      <th></th>\n      <th>Product_ID</th>\n      <th>Product_name</th>\n      <th>Category</th>\n      <th>Price</th>\n      <th>Seller_City</th>\n      <th>id</th>\n      <th>name</th>\n      <th>age</th>\n      <th>Purchased_Product</th>\n      <th>City</th>\n    </tr>\n  </thead>\n  <tbody>\n    <tr>\n      <th>0</th>\n      <td>101</td>\n      <td>Watch</td>\n      <td>Fashion</td>\n      <td>299.0</td>\n      <td>Delhi</td>\n      <td>1.0</td>\n      <td>Olivia</td>\n      <td>20.0</td>\n      <td>Watch</td>\n      <td>Mumbai</td>\n    </tr>\n    <tr>\n      <th>1</th>\n      <td>102</td>\n      <td>Bag</td>\n      <td>Fashion</td>\n      <td>1350.5</td>\n      <td>Mumbai</td>\n      <td>NaN</td>\n      <td>NaN</td>\n      <td>NaN</td>\n      <td>NaN</td>\n      <td>NaN</td>\n    </tr>\n    <tr>\n      <th>2</th>\n      <td>103</td>\n      <td>Shoes</td>\n      <td>Fashion</td>\n      <td>2999.0</td>\n      <td>Chennai</td>\n      <td>5.0</td>\n      <td>Dominic</td>\n      <td>30.0</td>\n      <td>Shoes</td>\n      <td>Chennai</td>\n    </tr>\n    <tr>\n      <th>3</th>\n      <td>104</td>\n      <td>Smartphone</td>\n      <td>Electronics</td>\n      <td>14999.0</td>\n      <td>Kolkata</td>\n      <td>6.0</td>\n      <td>Tyler</td>\n      <td>65.0</td>\n      <td>Smartphone</td>\n      <td>Delhi</td>\n    </tr>\n    <tr>\n      <th>4</th>\n      <td>105</td>\n      <td>Books</td>\n      <td>Study</td>\n      <td>145.0</td>\n      <td>Delhi</td>\n      <td>NaN</td>\n      <td>NaN</td>\n      <td>NaN</td>\n      <td>NaN</td>\n      <td>NaN</td>\n    </tr>\n    <tr>\n      <th>5</th>\n      <td>106</td>\n      <td>Oil</td>\n      <td>Grocery</td>\n      <td>110.0</td>\n      <td>Chennai</td>\n      <td>3.0</td>\n      <td>Cory</td>\n      <td>15.0</td>\n      <td>Oil</td>\n      <td>Bangalore</td>\n    </tr>\n    <tr>\n      <th>6</th>\n      <td>107</td>\n      <td>Laptop</td>\n      <td>Electronics</td>\n      <td>79999.0</td>\n      <td>Bengalore</td>\n      <td>9.0</td>\n      <td>Jeremy</td>\n      <td>23.0</td>\n      <td>Laptop</td>\n      <td>Mumbai</td>\n    </tr>\n    <tr>\n      <th>7</th>\n      <td>0</td>\n      <td>NaN</td>\n      <td>NaN</td>\n      <td>NaN</td>\n      <td>NaN</td>\n      <td>2.0</td>\n      <td>Aditya</td>\n      <td>25.0</td>\n      <td>NA</td>\n      <td>Delhi</td>\n    </tr>\n    <tr>\n      <th>8</th>\n      <td>0</td>\n      <td>NaN</td>\n      <td>NaN</td>\n      <td>NaN</td>\n      <td>NaN</td>\n      <td>4.0</td>\n      <td>Isabell</td>\n      <td>10.0</td>\n      <td>NA</td>\n      <td>Chennai</td>\n    </tr>\n    <tr>\n      <th>9</th>\n      <td>0</td>\n      <td>NaN</td>\n      <td>NaN</td>\n      <td>NaN</td>\n      <td>NaN</td>\n      <td>7.0</td>\n      <td>Samuel</td>\n      <td>35.0</td>\n      <td>NA</td>\n      <td>Kolkata</td>\n    </tr>\n    <tr>\n      <th>10</th>\n      <td>0</td>\n      <td>NaN</td>\n      <td>NaN</td>\n      <td>NaN</td>\n      <td>NaN</td>\n      <td>8.0</td>\n      <td>Daniel</td>\n      <td>18.0</td>\n      <td>NA</td>\n      <td>Delhi</td>\n    </tr>\n  </tbody>\n</table>\n</div>"
     },
     "metadata": {},
     "execution_count": 14
    }
   ],
   "source": [
    "pd.merge(product,customer,on='Product_ID',how='outer')"
   ]
  },
  {
   "source": [
    "### indicator 인자는 각 사실들이 어느 테이블에 속해있는지 알려줌 "
   ],
   "cell_type": "markdown",
   "metadata": {}
  },
  {
   "cell_type": "code",
   "execution_count": 15,
   "metadata": {},
   "outputs": [
    {
     "output_type": "execute_result",
     "data": {
      "text/plain": [
       "    Product_ID Product_name     Category    Price Seller_City   id     name  \\\n",
       "0          101        Watch      Fashion    299.0       Delhi  1.0   Olivia   \n",
       "1          102          Bag      Fashion   1350.5      Mumbai  NaN      NaN   \n",
       "2          103        Shoes      Fashion   2999.0     Chennai  5.0  Dominic   \n",
       "3          104   Smartphone  Electronics  14999.0     Kolkata  6.0    Tyler   \n",
       "4          105        Books        Study    145.0       Delhi  NaN      NaN   \n",
       "5          106          Oil      Grocery    110.0     Chennai  3.0     Cory   \n",
       "6          107       Laptop  Electronics  79999.0   Bengalore  9.0   Jeremy   \n",
       "7            0          NaN          NaN      NaN         NaN  2.0   Aditya   \n",
       "8            0          NaN          NaN      NaN         NaN  4.0  Isabell   \n",
       "9            0          NaN          NaN      NaN         NaN  7.0   Samuel   \n",
       "10           0          NaN          NaN      NaN         NaN  8.0   Daniel   \n",
       "\n",
       "     age Purchased_Product       City      _merge  \n",
       "0   20.0             Watch     Mumbai        both  \n",
       "1    NaN               NaN        NaN   left_only  \n",
       "2   30.0             Shoes    Chennai        both  \n",
       "3   65.0        Smartphone      Delhi        both  \n",
       "4    NaN               NaN        NaN   left_only  \n",
       "5   15.0               Oil  Bangalore        both  \n",
       "6   23.0            Laptop     Mumbai        both  \n",
       "7   25.0                NA      Delhi  right_only  \n",
       "8   10.0                NA    Chennai  right_only  \n",
       "9   35.0                NA    Kolkata  right_only  \n",
       "10  18.0                NA      Delhi  right_only  "
      ],
      "text/html": "<div>\n<style scoped>\n    .dataframe tbody tr th:only-of-type {\n        vertical-align: middle;\n    }\n\n    .dataframe tbody tr th {\n        vertical-align: top;\n    }\n\n    .dataframe thead th {\n        text-align: right;\n    }\n</style>\n<table border=\"1\" class=\"dataframe\">\n  <thead>\n    <tr style=\"text-align: right;\">\n      <th></th>\n      <th>Product_ID</th>\n      <th>Product_name</th>\n      <th>Category</th>\n      <th>Price</th>\n      <th>Seller_City</th>\n      <th>id</th>\n      <th>name</th>\n      <th>age</th>\n      <th>Purchased_Product</th>\n      <th>City</th>\n      <th>_merge</th>\n    </tr>\n  </thead>\n  <tbody>\n    <tr>\n      <th>0</th>\n      <td>101</td>\n      <td>Watch</td>\n      <td>Fashion</td>\n      <td>299.0</td>\n      <td>Delhi</td>\n      <td>1.0</td>\n      <td>Olivia</td>\n      <td>20.0</td>\n      <td>Watch</td>\n      <td>Mumbai</td>\n      <td>both</td>\n    </tr>\n    <tr>\n      <th>1</th>\n      <td>102</td>\n      <td>Bag</td>\n      <td>Fashion</td>\n      <td>1350.5</td>\n      <td>Mumbai</td>\n      <td>NaN</td>\n      <td>NaN</td>\n      <td>NaN</td>\n      <td>NaN</td>\n      <td>NaN</td>\n      <td>left_only</td>\n    </tr>\n    <tr>\n      <th>2</th>\n      <td>103</td>\n      <td>Shoes</td>\n      <td>Fashion</td>\n      <td>2999.0</td>\n      <td>Chennai</td>\n      <td>5.0</td>\n      <td>Dominic</td>\n      <td>30.0</td>\n      <td>Shoes</td>\n      <td>Chennai</td>\n      <td>both</td>\n    </tr>\n    <tr>\n      <th>3</th>\n      <td>104</td>\n      <td>Smartphone</td>\n      <td>Electronics</td>\n      <td>14999.0</td>\n      <td>Kolkata</td>\n      <td>6.0</td>\n      <td>Tyler</td>\n      <td>65.0</td>\n      <td>Smartphone</td>\n      <td>Delhi</td>\n      <td>both</td>\n    </tr>\n    <tr>\n      <th>4</th>\n      <td>105</td>\n      <td>Books</td>\n      <td>Study</td>\n      <td>145.0</td>\n      <td>Delhi</td>\n      <td>NaN</td>\n      <td>NaN</td>\n      <td>NaN</td>\n      <td>NaN</td>\n      <td>NaN</td>\n      <td>left_only</td>\n    </tr>\n    <tr>\n      <th>5</th>\n      <td>106</td>\n      <td>Oil</td>\n      <td>Grocery</td>\n      <td>110.0</td>\n      <td>Chennai</td>\n      <td>3.0</td>\n      <td>Cory</td>\n      <td>15.0</td>\n      <td>Oil</td>\n      <td>Bangalore</td>\n      <td>both</td>\n    </tr>\n    <tr>\n      <th>6</th>\n      <td>107</td>\n      <td>Laptop</td>\n      <td>Electronics</td>\n      <td>79999.0</td>\n      <td>Bengalore</td>\n      <td>9.0</td>\n      <td>Jeremy</td>\n      <td>23.0</td>\n      <td>Laptop</td>\n      <td>Mumbai</td>\n      <td>both</td>\n    </tr>\n    <tr>\n      <th>7</th>\n      <td>0</td>\n      <td>NaN</td>\n      <td>NaN</td>\n      <td>NaN</td>\n      <td>NaN</td>\n      <td>2.0</td>\n      <td>Aditya</td>\n      <td>25.0</td>\n      <td>NA</td>\n      <td>Delhi</td>\n      <td>right_only</td>\n    </tr>\n    <tr>\n      <th>8</th>\n      <td>0</td>\n      <td>NaN</td>\n      <td>NaN</td>\n      <td>NaN</td>\n      <td>NaN</td>\n      <td>4.0</td>\n      <td>Isabell</td>\n      <td>10.0</td>\n      <td>NA</td>\n      <td>Chennai</td>\n      <td>right_only</td>\n    </tr>\n    <tr>\n      <th>9</th>\n      <td>0</td>\n      <td>NaN</td>\n      <td>NaN</td>\n      <td>NaN</td>\n      <td>NaN</td>\n      <td>7.0</td>\n      <td>Samuel</td>\n      <td>35.0</td>\n      <td>NA</td>\n      <td>Kolkata</td>\n      <td>right_only</td>\n    </tr>\n    <tr>\n      <th>10</th>\n      <td>0</td>\n      <td>NaN</td>\n      <td>NaN</td>\n      <td>NaN</td>\n      <td>NaN</td>\n      <td>8.0</td>\n      <td>Daniel</td>\n      <td>18.0</td>\n      <td>NA</td>\n      <td>Delhi</td>\n      <td>right_only</td>\n    </tr>\n  </tbody>\n</table>\n</div>"
     },
     "metadata": {},
     "execution_count": 15
    }
   ],
   "source": [
    "pd.merge(product,customer,on='Product_ID',how='outer',indicator=True)"
   ]
  },
  {
   "source": [
    "### Left outer join: 교집합 포함 left dataframe 출력.\n",
    "\n",
    "여집합을 통해 right specific 구하기 가능\n",
    "\n",
    "outer join한다음, index따서 drop()하면 될듯?\n",
    "\n",
    "## 더 직관적으로,\n",
    "\n",
    "왼쪽 df를 뼈대로, 오른쪽 df를 붙여주는것.<br/>\n",
    "왼쪽 df의 key에는 있는데, 오른쪽 df의 key에는 없을경우<br/>\n",
    "오른쪽 내용이 NaN으로 붙는다.\n",
    "\n",
    "왼쪽 df의 key에 없는데, 오른쪽 df의 key에는 있는 경우<br/>\n",
    "오른쪽 내용이 '안붙는다'.\n",
    "\n",
    "그러면...\n",
    "\n",
    "NaN이 있는 행은 left specific이고<br/>\n",
    "NaN이 없으면 common이고<br/>\n",
    "right specific 구하고 싶으면 right outer join해서 NaN이 있는 행 솎아내면 됨."
   ],
   "cell_type": "markdown",
   "metadata": {}
  },
  {
   "cell_type": "code",
   "execution_count": 16,
   "metadata": {},
   "outputs": [
    {
     "output_type": "execute_result",
     "data": {
      "text/plain": [
       "   Product_ID Product_name     Category    Price Seller_City   id     name  \\\n",
       "0         101        Watch      Fashion    299.0       Delhi  1.0   Olivia   \n",
       "1         102          Bag      Fashion   1350.5      Mumbai  NaN      NaN   \n",
       "2         103        Shoes      Fashion   2999.0     Chennai  5.0  Dominic   \n",
       "3         104   Smartphone  Electronics  14999.0     Kolkata  6.0    Tyler   \n",
       "4         105        Books        Study    145.0       Delhi  NaN      NaN   \n",
       "5         106          Oil      Grocery    110.0     Chennai  3.0     Cory   \n",
       "6         107       Laptop  Electronics  79999.0   Bengalore  9.0   Jeremy   \n",
       "\n",
       "    age Purchased_Product       City  \n",
       "0  20.0             Watch     Mumbai  \n",
       "1   NaN               NaN        NaN  \n",
       "2  30.0             Shoes    Chennai  \n",
       "3  65.0        Smartphone      Delhi  \n",
       "4   NaN               NaN        NaN  \n",
       "5  15.0               Oil  Bangalore  \n",
       "6  23.0            Laptop     Mumbai  "
      ],
      "text/html": "<div>\n<style scoped>\n    .dataframe tbody tr th:only-of-type {\n        vertical-align: middle;\n    }\n\n    .dataframe tbody tr th {\n        vertical-align: top;\n    }\n\n    .dataframe thead th {\n        text-align: right;\n    }\n</style>\n<table border=\"1\" class=\"dataframe\">\n  <thead>\n    <tr style=\"text-align: right;\">\n      <th></th>\n      <th>Product_ID</th>\n      <th>Product_name</th>\n      <th>Category</th>\n      <th>Price</th>\n      <th>Seller_City</th>\n      <th>id</th>\n      <th>name</th>\n      <th>age</th>\n      <th>Purchased_Product</th>\n      <th>City</th>\n    </tr>\n  </thead>\n  <tbody>\n    <tr>\n      <th>0</th>\n      <td>101</td>\n      <td>Watch</td>\n      <td>Fashion</td>\n      <td>299.0</td>\n      <td>Delhi</td>\n      <td>1.0</td>\n      <td>Olivia</td>\n      <td>20.0</td>\n      <td>Watch</td>\n      <td>Mumbai</td>\n    </tr>\n    <tr>\n      <th>1</th>\n      <td>102</td>\n      <td>Bag</td>\n      <td>Fashion</td>\n      <td>1350.5</td>\n      <td>Mumbai</td>\n      <td>NaN</td>\n      <td>NaN</td>\n      <td>NaN</td>\n      <td>NaN</td>\n      <td>NaN</td>\n    </tr>\n    <tr>\n      <th>2</th>\n      <td>103</td>\n      <td>Shoes</td>\n      <td>Fashion</td>\n      <td>2999.0</td>\n      <td>Chennai</td>\n      <td>5.0</td>\n      <td>Dominic</td>\n      <td>30.0</td>\n      <td>Shoes</td>\n      <td>Chennai</td>\n    </tr>\n    <tr>\n      <th>3</th>\n      <td>104</td>\n      <td>Smartphone</td>\n      <td>Electronics</td>\n      <td>14999.0</td>\n      <td>Kolkata</td>\n      <td>6.0</td>\n      <td>Tyler</td>\n      <td>65.0</td>\n      <td>Smartphone</td>\n      <td>Delhi</td>\n    </tr>\n    <tr>\n      <th>4</th>\n      <td>105</td>\n      <td>Books</td>\n      <td>Study</td>\n      <td>145.0</td>\n      <td>Delhi</td>\n      <td>NaN</td>\n      <td>NaN</td>\n      <td>NaN</td>\n      <td>NaN</td>\n      <td>NaN</td>\n    </tr>\n    <tr>\n      <th>5</th>\n      <td>106</td>\n      <td>Oil</td>\n      <td>Grocery</td>\n      <td>110.0</td>\n      <td>Chennai</td>\n      <td>3.0</td>\n      <td>Cory</td>\n      <td>15.0</td>\n      <td>Oil</td>\n      <td>Bangalore</td>\n    </tr>\n    <tr>\n      <th>6</th>\n      <td>107</td>\n      <td>Laptop</td>\n      <td>Electronics</td>\n      <td>79999.0</td>\n      <td>Bengalore</td>\n      <td>9.0</td>\n      <td>Jeremy</td>\n      <td>23.0</td>\n      <td>Laptop</td>\n      <td>Mumbai</td>\n    </tr>\n  </tbody>\n</table>\n</div>"
     },
     "metadata": {},
     "execution_count": 16
    }
   ],
   "source": [
    "pd.merge(product,customer,on='Product_ID',how='left')"
   ]
  },
  {
   "source": [
    "### Right outer join: 교집합 포함 right dataframe 출력.\n",
    "\n",
    "여집합을 통해 left specific 구하기 가능"
   ],
   "cell_type": "markdown",
   "metadata": {}
  },
  {
   "cell_type": "code",
   "execution_count": 17,
   "metadata": {},
   "outputs": [
    {
     "output_type": "execute_result",
     "data": {
      "text/plain": [
       "   Product_ID Product_name     Category    Price Seller_City  id     name  \\\n",
       "0         101        Watch      Fashion    299.0       Delhi   1   Olivia   \n",
       "1           0          NaN          NaN      NaN         NaN   2   Aditya   \n",
       "2         106          Oil      Grocery    110.0     Chennai   3     Cory   \n",
       "3           0          NaN          NaN      NaN         NaN   4  Isabell   \n",
       "4         103        Shoes      Fashion   2999.0     Chennai   5  Dominic   \n",
       "5         104   Smartphone  Electronics  14999.0     Kolkata   6    Tyler   \n",
       "6           0          NaN          NaN      NaN         NaN   7   Samuel   \n",
       "7           0          NaN          NaN      NaN         NaN   8   Daniel   \n",
       "8         107       Laptop  Electronics  79999.0   Bengalore   9   Jeremy   \n",
       "\n",
       "   age Purchased_Product       City  \n",
       "0   20             Watch     Mumbai  \n",
       "1   25                NA      Delhi  \n",
       "2   15               Oil  Bangalore  \n",
       "3   10                NA    Chennai  \n",
       "4   30             Shoes    Chennai  \n",
       "5   65        Smartphone      Delhi  \n",
       "6   35                NA    Kolkata  \n",
       "7   18                NA      Delhi  \n",
       "8   23            Laptop     Mumbai  "
      ],
      "text/html": "<div>\n<style scoped>\n    .dataframe tbody tr th:only-of-type {\n        vertical-align: middle;\n    }\n\n    .dataframe tbody tr th {\n        vertical-align: top;\n    }\n\n    .dataframe thead th {\n        text-align: right;\n    }\n</style>\n<table border=\"1\" class=\"dataframe\">\n  <thead>\n    <tr style=\"text-align: right;\">\n      <th></th>\n      <th>Product_ID</th>\n      <th>Product_name</th>\n      <th>Category</th>\n      <th>Price</th>\n      <th>Seller_City</th>\n      <th>id</th>\n      <th>name</th>\n      <th>age</th>\n      <th>Purchased_Product</th>\n      <th>City</th>\n    </tr>\n  </thead>\n  <tbody>\n    <tr>\n      <th>0</th>\n      <td>101</td>\n      <td>Watch</td>\n      <td>Fashion</td>\n      <td>299.0</td>\n      <td>Delhi</td>\n      <td>1</td>\n      <td>Olivia</td>\n      <td>20</td>\n      <td>Watch</td>\n      <td>Mumbai</td>\n    </tr>\n    <tr>\n      <th>1</th>\n      <td>0</td>\n      <td>NaN</td>\n      <td>NaN</td>\n      <td>NaN</td>\n      <td>NaN</td>\n      <td>2</td>\n      <td>Aditya</td>\n      <td>25</td>\n      <td>NA</td>\n      <td>Delhi</td>\n    </tr>\n    <tr>\n      <th>2</th>\n      <td>106</td>\n      <td>Oil</td>\n      <td>Grocery</td>\n      <td>110.0</td>\n      <td>Chennai</td>\n      <td>3</td>\n      <td>Cory</td>\n      <td>15</td>\n      <td>Oil</td>\n      <td>Bangalore</td>\n    </tr>\n    <tr>\n      <th>3</th>\n      <td>0</td>\n      <td>NaN</td>\n      <td>NaN</td>\n      <td>NaN</td>\n      <td>NaN</td>\n      <td>4</td>\n      <td>Isabell</td>\n      <td>10</td>\n      <td>NA</td>\n      <td>Chennai</td>\n    </tr>\n    <tr>\n      <th>4</th>\n      <td>103</td>\n      <td>Shoes</td>\n      <td>Fashion</td>\n      <td>2999.0</td>\n      <td>Chennai</td>\n      <td>5</td>\n      <td>Dominic</td>\n      <td>30</td>\n      <td>Shoes</td>\n      <td>Chennai</td>\n    </tr>\n    <tr>\n      <th>5</th>\n      <td>104</td>\n      <td>Smartphone</td>\n      <td>Electronics</td>\n      <td>14999.0</td>\n      <td>Kolkata</td>\n      <td>6</td>\n      <td>Tyler</td>\n      <td>65</td>\n      <td>Smartphone</td>\n      <td>Delhi</td>\n    </tr>\n    <tr>\n      <th>6</th>\n      <td>0</td>\n      <td>NaN</td>\n      <td>NaN</td>\n      <td>NaN</td>\n      <td>NaN</td>\n      <td>7</td>\n      <td>Samuel</td>\n      <td>35</td>\n      <td>NA</td>\n      <td>Kolkata</td>\n    </tr>\n    <tr>\n      <th>7</th>\n      <td>0</td>\n      <td>NaN</td>\n      <td>NaN</td>\n      <td>NaN</td>\n      <td>NaN</td>\n      <td>8</td>\n      <td>Daniel</td>\n      <td>18</td>\n      <td>NA</td>\n      <td>Delhi</td>\n    </tr>\n    <tr>\n      <th>8</th>\n      <td>107</td>\n      <td>Laptop</td>\n      <td>Electronics</td>\n      <td>79999.0</td>\n      <td>Bengalore</td>\n      <td>9</td>\n      <td>Jeremy</td>\n      <td>23</td>\n      <td>Laptop</td>\n      <td>Mumbai</td>\n    </tr>\n  </tbody>\n</table>\n</div>"
     },
     "metadata": {},
     "execution_count": 17
    }
   ],
   "source": [
    "pd.merge(product,customer,on='Product_ID',how='right')"
   ]
  },
  {
   "source": [
    "## 데이터 duplicate 존재 해결법\n",
    "\n",
    "merge함수의 validate 인자를 활용하거나,\n",
    "\n",
    "데이터 프레임 메소드중 drop_duplicates()메소드를 활용하거나"
   ],
   "cell_type": "markdown",
   "metadata": {}
  },
  {
   "cell_type": "code",
   "execution_count": 20,
   "metadata": {},
   "outputs": [
    {
     "output_type": "execute_result",
     "data": {
      "text/plain": [
       "   Product_ID Product_name     Category    Price Seller_City\n",
       "0         101        Watch      Fashion    299.0       Delhi\n",
       "1         102          Bag      Fashion   1350.5      Mumbai\n",
       "2         103        Shoes      Fashion   2999.0     Chennai\n",
       "3         104   Smartphone  Electronics  14999.0     Kolkata\n",
       "4         105        Books        Study    145.0       Delhi\n",
       "5         106          Oil      Grocery    110.0     Chennai\n",
       "6         107       Laptop  Electronics  79999.0   Bengalore\n",
       "7         103        Shoes      Fashion   2999.0     Chennai\n",
       "8         107       Laptop  Electronics  79999.0   Bengalore"
      ],
      "text/html": "<div>\n<style scoped>\n    .dataframe tbody tr th:only-of-type {\n        vertical-align: middle;\n    }\n\n    .dataframe tbody tr th {\n        vertical-align: top;\n    }\n\n    .dataframe thead th {\n        text-align: right;\n    }\n</style>\n<table border=\"1\" class=\"dataframe\">\n  <thead>\n    <tr style=\"text-align: right;\">\n      <th></th>\n      <th>Product_ID</th>\n      <th>Product_name</th>\n      <th>Category</th>\n      <th>Price</th>\n      <th>Seller_City</th>\n    </tr>\n  </thead>\n  <tbody>\n    <tr>\n      <th>0</th>\n      <td>101</td>\n      <td>Watch</td>\n      <td>Fashion</td>\n      <td>299.0</td>\n      <td>Delhi</td>\n    </tr>\n    <tr>\n      <th>1</th>\n      <td>102</td>\n      <td>Bag</td>\n      <td>Fashion</td>\n      <td>1350.5</td>\n      <td>Mumbai</td>\n    </tr>\n    <tr>\n      <th>2</th>\n      <td>103</td>\n      <td>Shoes</td>\n      <td>Fashion</td>\n      <td>2999.0</td>\n      <td>Chennai</td>\n    </tr>\n    <tr>\n      <th>3</th>\n      <td>104</td>\n      <td>Smartphone</td>\n      <td>Electronics</td>\n      <td>14999.0</td>\n      <td>Kolkata</td>\n    </tr>\n    <tr>\n      <th>4</th>\n      <td>105</td>\n      <td>Books</td>\n      <td>Study</td>\n      <td>145.0</td>\n      <td>Delhi</td>\n    </tr>\n    <tr>\n      <th>5</th>\n      <td>106</td>\n      <td>Oil</td>\n      <td>Grocery</td>\n      <td>110.0</td>\n      <td>Chennai</td>\n    </tr>\n    <tr>\n      <th>6</th>\n      <td>107</td>\n      <td>Laptop</td>\n      <td>Electronics</td>\n      <td>79999.0</td>\n      <td>Bengalore</td>\n    </tr>\n    <tr>\n      <th>7</th>\n      <td>103</td>\n      <td>Shoes</td>\n      <td>Fashion</td>\n      <td>2999.0</td>\n      <td>Chennai</td>\n    </tr>\n    <tr>\n      <th>8</th>\n      <td>107</td>\n      <td>Laptop</td>\n      <td>Electronics</td>\n      <td>79999.0</td>\n      <td>Bengalore</td>\n    </tr>\n  </tbody>\n</table>\n</div>"
     },
     "metadata": {},
     "execution_count": 20
    }
   ],
   "source": [
    "product_dup=pd.DataFrame({\n",
    "'Product_ID':[101,102,103,104,105,106,107,103,107],\n",
    "'Product_name':['Watch','Bag','Shoes','Smartphone','Books','Oil','Laptop','Shoes','Laptop'],\n",
    "'Category':['Fashion','Fashion','Fashion','Electronics','Study','Grocery','Electronics','Fashion', 'Electronics'],\n",
    "'Price':[299.0,1350.50,2999.0,14999.0,145.0,110.0,79999.0,2999.0,79999.0],\n",
    "'Seller_City':['Delhi','Mumbai','Chennai','Kolkata','Delhi','Chennai','Bengalore','Chennai','Bengalore']\n",
    "})\n",
    "\n",
    "product_dup"
   ]
  },
  {
   "source": [
    "중복 사실 생성"
   ],
   "cell_type": "markdown",
   "metadata": {}
  },
  {
   "cell_type": "code",
   "execution_count": 21,
   "metadata": {},
   "outputs": [
    {
     "output_type": "execute_result",
     "data": {
      "text/plain": [
       "   Product_ID Product_name     Category    Price Seller_City  id     name  \\\n",
       "0         101        Watch      Fashion    299.0       Delhi   1   Olivia   \n",
       "1         103        Shoes      Fashion   2999.0     Chennai   5  Dominic   \n",
       "2         103        Shoes      Fashion   2999.0     Chennai   5  Dominic   \n",
       "3         104   Smartphone  Electronics  14999.0     Kolkata   6    Tyler   \n",
       "4         106          Oil      Grocery    110.0     Chennai   3     Cory   \n",
       "5         107       Laptop  Electronics  79999.0   Bengalore   9   Jeremy   \n",
       "6         107       Laptop  Electronics  79999.0   Bengalore   9   Jeremy   \n",
       "\n",
       "   age Purchased_Product       City  \n",
       "0   20             Watch     Mumbai  \n",
       "1   30             Shoes    Chennai  \n",
       "2   30             Shoes    Chennai  \n",
       "3   65        Smartphone      Delhi  \n",
       "4   15               Oil  Bangalore  \n",
       "5   23            Laptop     Mumbai  \n",
       "6   23            Laptop     Mumbai  "
      ],
      "text/html": "<div>\n<style scoped>\n    .dataframe tbody tr th:only-of-type {\n        vertical-align: middle;\n    }\n\n    .dataframe tbody tr th {\n        vertical-align: top;\n    }\n\n    .dataframe thead th {\n        text-align: right;\n    }\n</style>\n<table border=\"1\" class=\"dataframe\">\n  <thead>\n    <tr style=\"text-align: right;\">\n      <th></th>\n      <th>Product_ID</th>\n      <th>Product_name</th>\n      <th>Category</th>\n      <th>Price</th>\n      <th>Seller_City</th>\n      <th>id</th>\n      <th>name</th>\n      <th>age</th>\n      <th>Purchased_Product</th>\n      <th>City</th>\n    </tr>\n  </thead>\n  <tbody>\n    <tr>\n      <th>0</th>\n      <td>101</td>\n      <td>Watch</td>\n      <td>Fashion</td>\n      <td>299.0</td>\n      <td>Delhi</td>\n      <td>1</td>\n      <td>Olivia</td>\n      <td>20</td>\n      <td>Watch</td>\n      <td>Mumbai</td>\n    </tr>\n    <tr>\n      <th>1</th>\n      <td>103</td>\n      <td>Shoes</td>\n      <td>Fashion</td>\n      <td>2999.0</td>\n      <td>Chennai</td>\n      <td>5</td>\n      <td>Dominic</td>\n      <td>30</td>\n      <td>Shoes</td>\n      <td>Chennai</td>\n    </tr>\n    <tr>\n      <th>2</th>\n      <td>103</td>\n      <td>Shoes</td>\n      <td>Fashion</td>\n      <td>2999.0</td>\n      <td>Chennai</td>\n      <td>5</td>\n      <td>Dominic</td>\n      <td>30</td>\n      <td>Shoes</td>\n      <td>Chennai</td>\n    </tr>\n    <tr>\n      <th>3</th>\n      <td>104</td>\n      <td>Smartphone</td>\n      <td>Electronics</td>\n      <td>14999.0</td>\n      <td>Kolkata</td>\n      <td>6</td>\n      <td>Tyler</td>\n      <td>65</td>\n      <td>Smartphone</td>\n      <td>Delhi</td>\n    </tr>\n    <tr>\n      <th>4</th>\n      <td>106</td>\n      <td>Oil</td>\n      <td>Grocery</td>\n      <td>110.0</td>\n      <td>Chennai</td>\n      <td>3</td>\n      <td>Cory</td>\n      <td>15</td>\n      <td>Oil</td>\n      <td>Bangalore</td>\n    </tr>\n    <tr>\n      <th>5</th>\n      <td>107</td>\n      <td>Laptop</td>\n      <td>Electronics</td>\n      <td>79999.0</td>\n      <td>Bengalore</td>\n      <td>9</td>\n      <td>Jeremy</td>\n      <td>23</td>\n      <td>Laptop</td>\n      <td>Mumbai</td>\n    </tr>\n    <tr>\n      <th>6</th>\n      <td>107</td>\n      <td>Laptop</td>\n      <td>Electronics</td>\n      <td>79999.0</td>\n      <td>Bengalore</td>\n      <td>9</td>\n      <td>Jeremy</td>\n      <td>23</td>\n      <td>Laptop</td>\n      <td>Mumbai</td>\n    </tr>\n  </tbody>\n</table>\n</div>"
     },
     "metadata": {},
     "execution_count": 21
    }
   ],
   "source": [
    "pd.merge(product_dup,customer,how='inner',on='Product_ID')"
   ]
  },
  {
   "source": [
    "dup 제거 메소드 활용"
   ],
   "cell_type": "markdown",
   "metadata": {}
  },
  {
   "cell_type": "code",
   "execution_count": 25,
   "metadata": {},
   "outputs": [
    {
     "output_type": "execute_result",
     "data": {
      "text/plain": [
       "   Product_ID Product_name     Category    Price Seller_City  id     name  \\\n",
       "0         101        Watch      Fashion    299.0       Delhi   1   Olivia   \n",
       "1         103        Shoes      Fashion   2999.0     Chennai   5  Dominic   \n",
       "2         104   Smartphone  Electronics  14999.0     Kolkata   6    Tyler   \n",
       "3         106          Oil      Grocery    110.0     Chennai   3     Cory   \n",
       "4         107       Laptop  Electronics  79999.0   Bengalore   9   Jeremy   \n",
       "\n",
       "   age Purchased_Product       City  \n",
       "0   20             Watch     Mumbai  \n",
       "1   30             Shoes    Chennai  \n",
       "2   65        Smartphone      Delhi  \n",
       "3   15               Oil  Bangalore  \n",
       "4   23            Laptop     Mumbai  "
      ],
      "text/html": "<div>\n<style scoped>\n    .dataframe tbody tr th:only-of-type {\n        vertical-align: middle;\n    }\n\n    .dataframe tbody tr th {\n        vertical-align: top;\n    }\n\n    .dataframe thead th {\n        text-align: right;\n    }\n</style>\n<table border=\"1\" class=\"dataframe\">\n  <thead>\n    <tr style=\"text-align: right;\">\n      <th></th>\n      <th>Product_ID</th>\n      <th>Product_name</th>\n      <th>Category</th>\n      <th>Price</th>\n      <th>Seller_City</th>\n      <th>id</th>\n      <th>name</th>\n      <th>age</th>\n      <th>Purchased_Product</th>\n      <th>City</th>\n    </tr>\n  </thead>\n  <tbody>\n    <tr>\n      <th>0</th>\n      <td>101</td>\n      <td>Watch</td>\n      <td>Fashion</td>\n      <td>299.0</td>\n      <td>Delhi</td>\n      <td>1</td>\n      <td>Olivia</td>\n      <td>20</td>\n      <td>Watch</td>\n      <td>Mumbai</td>\n    </tr>\n    <tr>\n      <th>1</th>\n      <td>103</td>\n      <td>Shoes</td>\n      <td>Fashion</td>\n      <td>2999.0</td>\n      <td>Chennai</td>\n      <td>5</td>\n      <td>Dominic</td>\n      <td>30</td>\n      <td>Shoes</td>\n      <td>Chennai</td>\n    </tr>\n    <tr>\n      <th>2</th>\n      <td>104</td>\n      <td>Smartphone</td>\n      <td>Electronics</td>\n      <td>14999.0</td>\n      <td>Kolkata</td>\n      <td>6</td>\n      <td>Tyler</td>\n      <td>65</td>\n      <td>Smartphone</td>\n      <td>Delhi</td>\n    </tr>\n    <tr>\n      <th>3</th>\n      <td>106</td>\n      <td>Oil</td>\n      <td>Grocery</td>\n      <td>110.0</td>\n      <td>Chennai</td>\n      <td>3</td>\n      <td>Cory</td>\n      <td>15</td>\n      <td>Oil</td>\n      <td>Bangalore</td>\n    </tr>\n    <tr>\n      <th>4</th>\n      <td>107</td>\n      <td>Laptop</td>\n      <td>Electronics</td>\n      <td>79999.0</td>\n      <td>Bengalore</td>\n      <td>9</td>\n      <td>Jeremy</td>\n      <td>23</td>\n      <td>Laptop</td>\n      <td>Mumbai</td>\n    </tr>\n  </tbody>\n</table>\n</div>"
     },
     "metadata": {},
     "execution_count": 25
    }
   ],
   "source": [
    "pd.merge(product_dup.drop_duplicates(),customer,how='inner',on='Product_ID')"
   ]
  }
 ]
}